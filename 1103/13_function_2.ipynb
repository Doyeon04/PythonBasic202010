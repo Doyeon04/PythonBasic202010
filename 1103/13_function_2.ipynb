{
 "cells": [
  {
   "cell_type": "code",
   "execution_count": 4,
   "metadata": {},
   "outputs": [],
   "source": [
    "# 인수가 없는 함수, 함수가 처리할 데이터를 넘겨받지 않는 함수\n",
    "def func1():\n",
    "    print('func1() 함수가 실행됩니다. - 1')\n",
    "    # 함수가 종료되거나 return을 만나면 함수가 호출된 곳으로 돌아간다. => return이 잇으면 return 값을 가지고 돌아간다.\n",
    "    return 'func1() 함수가 실행됩니다. - 2'"
   ]
  },
  {
   "cell_type": "code",
   "execution_count": 13,
   "metadata": {},
   "outputs": [
    {
     "name": "stdout",
     "output_type": "stream",
     "text": [
      "func1() 함수가 실행됩니다. - 1\n",
      "================================================================================\n",
      "func1() 함수가 실행됩니다. - 1\n",
      "func1() 함수가 실행됩니다. - 2\n"
     ]
    }
   ],
   "source": [
    "func1()\n",
    "print('=' * 80)\n",
    "string = func1()\n",
    "print(string)"
   ]
  },
  {
   "cell_type": "code",
   "execution_count": 8,
   "metadata": {},
   "outputs": [],
   "source": [
    "# 결과값(return)이 없는 함수\n",
    "def func2(a, b):\n",
    "    print('{} + {} = {}'.format(a, b, a + b))"
   ]
  },
  {
   "cell_type": "code",
   "execution_count": 14,
   "metadata": {},
   "outputs": [
    {
     "name": "stdout",
     "output_type": "stream",
     "text": [
      "5 + 3 = 8\n",
      "================================================================================\n",
      "8 + 15 = 23\n",
      "None\n"
     ]
    }
   ],
   "source": [
    "func2(5, 3)\n",
    "print('=' * 80)\n",
    "result = func2(8, 15)\n",
    "print(result)"
   ]
  },
  {
   "cell_type": "code",
   "execution_count": null,
   "metadata": {},
   "outputs": [],
   "source": []
  },
  {
   "cell_type": "code",
   "execution_count": null,
   "metadata": {},
   "outputs": [],
   "source": []
  },
  {
   "cell_type": "code",
   "execution_count": null,
   "metadata": {},
   "outputs": [],
   "source": []
  },
  {
   "cell_type": "code",
   "execution_count": null,
   "metadata": {},
   "outputs": [],
   "source": []
  },
  {
   "cell_type": "code",
   "execution_count": null,
   "metadata": {},
   "outputs": [],
   "source": []
  },
  {
   "cell_type": "code",
   "execution_count": null,
   "metadata": {},
   "outputs": [],
   "source": []
  },
  {
   "cell_type": "code",
   "execution_count": null,
   "metadata": {},
   "outputs": [],
   "source": []
  }
 ],
 "metadata": {
  "kernelspec": {
   "display_name": "Python 3",
   "language": "python",
   "name": "python3"
  },
  "language_info": {
   "codemirror_mode": {
    "name": "ipython",
    "version": 3
   },
   "file_extension": ".py",
   "mimetype": "text/x-python",
   "name": "python",
   "nbconvert_exporter": "python",
   "pygments_lexer": "ipython3",
   "version": "3.6.8"
  }
 },
 "nbformat": 4,
 "nbformat_minor": 4
}
