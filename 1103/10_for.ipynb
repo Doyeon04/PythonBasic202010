{
 "cells": [
  {
   "cell_type": "markdown",
   "metadata": {},
   "source": [
    "for 명령은 반복 횟수가 몇 번인지 알 경우 사용한다.  \n",
    "\n",
    "숫자 리스트를 만들어주는 함수인 range() 함수와 같이 사용하는 for  \n",
    "for 변수 in range([초기치, ]최종치[, 증가치]): => [] 안의 내용은 생략할 수 있다.  \n",
    "&nbsp;&nbsp;&nbsp;&nbsp;반복할 문장  \n",
    "&nbsp;&nbsp;&nbsp;&nbsp;..."
   ]
  },
  {
   "cell_type": "markdown",
   "metadata": {},
   "source": [
    "range([초기치, ]최종치[, 증가치]) : 초기치 부터 최종치를 넘어가지 않을 때 까지 증가치 만큼 증가하는 숫자 리스트를 만든다.  \n",
    "초기치와 중가치는 생략할 수 있으며 초기치를 생략하면 0, 증가치를 생략하면 1이 기본값으로 사용된다.  \n",
    "range(0, 10, 1)와 range(10)는 의미가 같다."
   ]
  },
  {
   "cell_type": "code",
   "execution_count": 3,
   "metadata": {},
   "outputs": [
    {
     "name": "stdout",
     "output_type": "stream",
     "text": [
      "[0, 1, 2, 3, 4, 5, 6, 7, 8, 9]\n",
      "[0, 1, 2, 3, 4, 5, 6, 7, 8, 9]\n"
     ]
    }
   ],
   "source": [
    "a = list(range(0, 10, 1))\n",
    "print(a)\n",
    "b = list(range(10))\n",
    "print(b)"
   ]
  },
  {
   "cell_type": "code",
   "execution_count": 5,
   "metadata": {},
   "outputs": [
    {
     "name": "stdout",
     "output_type": "stream",
     "text": [
      "0 1 2 3 4 5 6 7 8 9 "
     ]
    }
   ],
   "source": [
    "for i in range(0, 10, 1):\n",
    "    print(i, end = ' ')"
   ]
  },
  {
   "cell_type": "code",
   "execution_count": 9,
   "metadata": {},
   "outputs": [
    {
     "name": "stdout",
     "output_type": "stream",
     "text": [
      "0 1 2 3 4 5 6 7 8 9 "
     ]
    }
   ],
   "source": [
    "for i in range(10):\n",
    "    print(i, end = ' ')"
   ]
  },
  {
   "cell_type": "code",
   "execution_count": 6,
   "metadata": {},
   "outputs": [
    {
     "name": "stdout",
     "output_type": "stream",
     "text": [
      "0 1 2 3 4 5 6 7 8 9 "
     ]
    }
   ],
   "source": [
    "for i in [0, 1, 2, 3, 4, 5, 6, 7, 8, 9]:\n",
    "    print(i, end = ' ')"
   ]
  },
  {
   "cell_type": "code",
   "execution_count": 11,
   "metadata": {},
   "outputs": [
    {
     "name": "stdout",
     "output_type": "stream",
     "text": [
      "1 3 5 7 9 "
     ]
    }
   ],
   "source": [
    "for i in range(1, 10, 2):\n",
    "    print(i, end = ' ')"
   ]
  },
  {
   "cell_type": "code",
   "execution_count": 13,
   "metadata": {},
   "outputs": [
    {
     "name": "stdout",
     "output_type": "stream",
     "text": [
      "2 4 6 8 10 "
     ]
    }
   ],
   "source": [
    "for i in range(2, 11, 2):\n",
    "    print(i, end = ' ')"
   ]
  },
  {
   "cell_type": "code",
   "execution_count": 19,
   "metadata": {},
   "outputs": [
    {
     "name": "stdout",
     "output_type": "stream",
     "text": [
      "[1, 5, 9]\n"
     ]
    }
   ],
   "source": [
    "a = list(range(1, 10, 4))\n",
    "print(a)"
   ]
  },
  {
   "cell_type": "code",
   "execution_count": null,
   "metadata": {},
   "outputs": [],
   "source": [
    "# 연산자 우선순위\n",
    "# 단항 연산자 => 이항 연산자 => 삼항 연산자 => 대입 연산자\n",
    "# 이항 연산자 : 산술 연산자[() => ** => *, /, //, % => +, -) => 관계 연산자 => 논리 연산자"
   ]
  },
  {
   "cell_type": "code",
   "execution_count": 29,
   "metadata": {},
   "outputs": [
    {
     "name": "stdout",
     "output_type": "stream",
     "text": [
      "1 ~ 100의 합계 : 5050\n"
     ]
    }
   ],
   "source": [
    "# 1 ~ 100의 합계\n",
    "# 변수가 최초로 사용되기 전에 반드시 초기화가 되어야 한다.\n",
    "total = 0\n",
    "for i in range(1, 101, 1):\n",
    "    # 대입 연산자 => +=, -=, *=, /=, //=, %=\n",
    "    total += i # total = total + i와 같은 의미로 사용된다.\n",
    "print('1 ~ 100의 합계 : {}'.format(total))"
   ]
  },
  {
   "cell_type": "markdown",
   "metadata": {},
   "source": [
    "주사위를 10번 굴렸을 때 각각의 눈이 나타난 개수를 계산한다. - 변수 사용"
   ]
  },
  {
   "cell_type": "code",
   "execution_count": 75,
   "metadata": {},
   "outputs": [
    {
     "name": "stdout",
     "output_type": "stream",
     "text": [
      " 1번째 주사위가 데구르르~~~~ 굴러서 4이(가) 나왔습니다.\n",
      " 2번째 주사위가 데구르르~~~~ 굴러서 4이(가) 나왔습니다.\n",
      " 3번째 주사위가 데구르르~~~~ 굴러서 4이(가) 나왔습니다.\n",
      " 4번째 주사위가 데구르르~~~~ 굴러서 1이(가) 나왔습니다.\n",
      " 5번째 주사위가 데구르르~~~~ 굴러서 6이(가) 나왔습니다.\n",
      " 6번째 주사위가 데구르르~~~~ 굴러서 3이(가) 나왔습니다.\n",
      " 7번째 주사위가 데구르르~~~~ 굴러서 4이(가) 나왔습니다.\n",
      " 8번째 주사위가 데구르르~~~~ 굴러서 2이(가) 나왔습니다.\n",
      " 9번째 주사위가 데구르르~~~~ 굴러서 3이(가) 나왔습니다.\n",
      "10번째 주사위가 데구르르~~~~ 굴러서 4이(가) 나왔습니다.\n",
      "1의 개수 : 1개\n",
      "2의 개수 : 1개\n",
      "3의 개수 : 2개\n",
      "4의 개수 : 5개\n",
      "5의 개수 : 0개\n",
      "6의 개수 : 1개\n"
     ]
    }
   ],
   "source": [
    "import random\n",
    "a = 0; b = 0; c = 0; d = 0; e = 0; f = 0 # ';'으로 문장을 구분하면 한 줄에 여러개의 문장을 사용할 수 있다.\n",
    "# 한 문장이 너무 길어서 2줄로 나눠서 코딩하려면 첫 줄 마지막에 '\\'를 입력하고 다음 줄에 이어서 코딩한다.\n",
    "\n",
    "for i in range(10):\n",
    "    r = random.randrange(1, 7) # 랜덤하게 주사위 눈을 발생시킨다.\n",
    "    print('{0:2d}번째 주사위가 데구르르~~~~ 굴러서 {1}이(가) 나왔습니다.'.format(i + 1, r))\n",
    "    \n",
    "    # 주사위 눈의 개수를 센다.\n",
    "    if r == 1:\n",
    "        a += 1\n",
    "    elif r == 2:\n",
    "        b += 1\n",
    "    elif r == 3:\n",
    "        c += 1\n",
    "    elif r == 4:\n",
    "        d += 1\n",
    "    elif r == 5:\n",
    "        e += 1\n",
    "    else:\n",
    "        f += 1\n",
    "# ==================\n",
    "\n",
    "# 주사위 눈의 개수를 출력한다.\n",
    "print('1의 개수 : {}개'.format(a))\n",
    "print('2의 개수 : {}개'.format(b))\n",
    "print('3의 개수 : {}개'.format(c))\n",
    "print('4의 개수 : {}개'.format(d))\n",
    "print('5의 개수 : {}개'.format(e))\n",
    "print('6의 개수 : {}개'.format(f))"
   ]
  },
  {
   "cell_type": "markdown",
   "metadata": {},
   "source": [
    "주사위를 10번 굴렸을 때 각각의 눈이 나타난 개수를 계산한다. - 리스트(배열) 사용"
   ]
  },
  {
   "cell_type": "code",
   "execution_count": 86,
   "metadata": {},
   "outputs": [
    {
     "name": "stdout",
     "output_type": "stream",
     "text": [
      " 1번째 주사위가 데구르르~~~~ 굴러서 3이(가) 나왔습니다.\n",
      " 2번째 주사위가 데구르르~~~~ 굴러서 1이(가) 나왔습니다.\n",
      " 3번째 주사위가 데구르르~~~~ 굴러서 5이(가) 나왔습니다.\n",
      " 4번째 주사위가 데구르르~~~~ 굴러서 4이(가) 나왔습니다.\n",
      " 5번째 주사위가 데구르르~~~~ 굴러서 2이(가) 나왔습니다.\n",
      " 6번째 주사위가 데구르르~~~~ 굴러서 4이(가) 나왔습니다.\n",
      " 7번째 주사위가 데구르르~~~~ 굴러서 1이(가) 나왔습니다.\n",
      " 8번째 주사위가 데구르르~~~~ 굴러서 5이(가) 나왔습니다.\n",
      " 9번째 주사위가 데구르르~~~~ 굴러서 5이(가) 나왔습니다.\n",
      "10번째 주사위가 데구르르~~~~ 굴러서 2이(가) 나왔습니다.\n",
      "1의 개수 : 2개\n",
      "2의 개수 : 2개\n",
      "3의 개수 : 1개\n",
      "4의 개수 : 2개\n",
      "5의 개수 : 3개\n",
      "6의 개수 : 0개\n"
     ]
    }
   ],
   "source": [
    "import random\n",
    "# 1 ~ 6 사이의 숫자를 기억할 0으로 초기화된 리스트를 만든다.\n",
    "# count = [0, 0, 0, 0, 0, 0]\n",
    "# 빈 리스트를 만들고 0을 6번 추가한다.\n",
    "count = []\n",
    "for i in range(6):\n",
    "    count.append(0)\n",
    "# 0이 6번 반복되는 리스트를 만든다.\n",
    "# count = [0 for i in range(6)]\n",
    "# print(count)\n",
    "\n",
    "for i in range(10):\n",
    "    r = random.randrange(1, 7) # 랜덤하게 주사위 눈을 발생시킨다.\n",
    "    print('{0:2d}번째 주사위가 데구르르~~~~ 굴러서 {1}이(가) 나왔습니다.'.format(i + 1, r))\n",
    "    \n",
    "    # 주사위 눈의 개수를 센다.\n",
    "    if r == 1:\n",
    "        count[0] += 1\n",
    "    elif r == 2:\n",
    "        count[1] += 1\n",
    "    elif r == 3:\n",
    "        count[2] += 1\n",
    "    elif r == 4:\n",
    "        count[3] += 1\n",
    "    elif r == 5:\n",
    "        count[4] += 1\n",
    "    else:\n",
    "        count[5] += 1\n",
    "# ==================\n",
    "\n",
    "print('1의 개수 : {}개'.format(count[0]))\n",
    "print('2의 개수 : {}개'.format(count[1]))\n",
    "print('3의 개수 : {}개'.format(count[2]))\n",
    "print('4의 개수 : {}개'.format(count[3]))\n",
    "print('5의 개수 : {}개'.format(count[4]))\n",
    "print('6의 개수 : {}개'.format(count[5]))"
   ]
  },
  {
   "cell_type": "code",
   "execution_count": 93,
   "metadata": {},
   "outputs": [
    {
     "name": "stdout",
     "output_type": "stream",
     "text": [
      "1의 개수 : 166211개\n",
      "2의 개수 : 166348개\n",
      "3의 개수 : 167466개\n",
      "4의 개수 : 166607개\n",
      "5의 개수 : 166565개\n",
      "6의 개수 : 166803개\n"
     ]
    }
   ],
   "source": [
    "import random\n",
    "count = []\n",
    "for i in range(6):\n",
    "    count.append(0)\n",
    "\n",
    "for i in range(1000000):\n",
    "    r = random.randrange(1, 7)\n",
    "    # print('{0:2d}번째 주사위가 데구르르~~~~ 굴러서 {1}이(가) 나왔습니다.'.format(i + 1, r))\n",
    "    count[r - 1] += 1\n",
    "# ==================\n",
    "\n",
    "for i in range(6):\n",
    "    print('{0}의 개수 : {1}개'.format(i + 1, count[i]))"
   ]
  },
  {
   "cell_type": "code",
   "execution_count": 6,
   "metadata": {},
   "outputs": [
    {
     "name": "stdout",
     "output_type": "stream",
     "text": [
      "range(1, 11)\n",
      "[1, 2, 3, 4, 5, 6, 7, 8, 9, 10]\n",
      "1 2 3 4 5 6 7 8 9 10 \n",
      "1 2 3 4 5 6 7 8 9 10 "
     ]
    }
   ],
   "source": [
    "# 리스트와 for\n",
    "# range() : 초기치 부터 최종치 - 1 까지 증가치 만큼 증가하는 숫자 리스트를 만든다.\n",
    "print(range(1, 11, 1))\n",
    "print(list(range(1, 11, 1)))\n",
    "\n",
    "# range() 함수에 의해 생성된 숫자 리스트의 값이 0번째 인덱스 부터 마지막 인덱스 까지 변수에 저장되며 반복한다.\n",
    "for i in range(1, 11, 1):\n",
    "    print(i, end = ' ')\n",
    "print()\n",
    "\n",
    "for i in [1, 2, 3, 4, 5, 6, 7, 8, 9, 10]:\n",
    "    print(i, end = ' ')"
   ]
  },
  {
   "cell_type": "code",
   "execution_count": 13,
   "metadata": {},
   "outputs": [
    {
     "name": "stdout",
     "output_type": "stream",
     "text": [
      "['Life', 'is', 'too', 'short']\n",
      "================================================================================\n",
      "Life\n",
      "is\n",
      "too\n",
      "short\n",
      "================================================================================\n",
      "Life\n",
      "is\n",
      "too\n",
      "short\n",
      "================================================================================\n",
      "Life\n",
      "is\n",
      "too\n",
      "short\n",
      "================================================================================\n",
      "is\n",
      "too\n"
     ]
    }
   ],
   "source": [
    "a = ['Life', 'is', 'too', 'short']\n",
    "print(a)\n",
    "print('=' * 80)\n",
    "\n",
    "# 리스트에 저장된 데이터의 개수가 변하지 않는다면 지정한 크기 만큼 반복시킨다.\n",
    "for i in range(4):\n",
    "    print(a[i])\n",
    "print('=' * 80)\n",
    "\n",
    "# 리스트에 저장된 데이터의 개수가 변경된다면 len() 함수를 사용해서 리스트에 저장된 데이터의 개수를 얻어와서 데이터의 개수\n",
    "# 만큼 반복시킨다.\n",
    "for i in range(len(a)):\n",
    "    print(a[i])\n",
    "print('=' * 80)\n",
    "\n",
    "for i in a:\n",
    "    print(i)\n",
    "print('=' * 80)\n",
    "\n",
    "for i in a[1:3]:\n",
    "    print(i)"
   ]
  },
  {
   "cell_type": "code",
   "execution_count": 18,
   "metadata": {},
   "outputs": [
    {
     "name": "stdout",
     "output_type": "stream",
     "text": [
      "<class 'tuple'>\n",
      "Life\n",
      "is\n",
      "too\n",
      "short\n",
      "================================================================================\n",
      "Life\n",
      "is\n",
      "too\n",
      "short\n",
      "================================================================================\n",
      "is\n",
      "too\n",
      "================================================================================\n"
     ]
    }
   ],
   "source": [
    "# 튜플과 for\n",
    "b = 'Life', 'is', 'too', 'short'\n",
    "print(type(b))\n",
    "\n",
    "for i in range(len(b)):\n",
    "    print(b[i])\n",
    "print('=' * 80)\n",
    "\n",
    "for i in b:\n",
    "    print(i)\n",
    "print('=' * 80)\n",
    "\n",
    "for i in b[1:3]:\n",
    "    print(i)\n",
    "print('=' * 80)"
   ]
  },
  {
   "cell_type": "code",
   "execution_count": 24,
   "metadata": {},
   "outputs": [
    {
     "name": "stdout",
     "output_type": "stream",
     "text": [
      "<class 'set'>\n",
      "is\n",
      "Life\n",
      "too\n",
      "short\n",
      "================================================================================\n"
     ]
    }
   ],
   "source": [
    "# set과 for\n",
    "c = {'Life', 'is', 'too', 'short'}\n",
    "print(type(c))\n",
    "\n",
    "for i in c:\n",
    "    print(i)\n",
    "print('=' * 80)\n",
    "\n",
    "\"\"\"\n",
    "# set은 입력하는 데이터 순서와 실제 저장되는 데이터 순서가 달라서 인덱싱과 슬라이싱을 사용할 수 없기 때문에 에러가 발생된다.\n",
    "for i in range(len(c)):\n",
    "    print(c[i])\n",
    "print('=' * 80)\n",
    "\n",
    "for i in c[1:3]:\n",
    "    print(i)\n",
    "print('=' * 80)\n",
    "\"\"\"\n",
    "pass"
   ]
  },
  {
   "cell_type": "code",
   "execution_count": 29,
   "metadata": {},
   "outputs": [
    {
     "name": "stdout",
     "output_type": "stream",
     "text": [
      "{'apple': 1000, 'banana': 3500, 'melon': 10000, 'mango': 5000}\n",
      "<class 'dict'>\n",
      "dict_keys(['apple', 'banana', 'melon', 'mango'])\n",
      "dict_values([1000, 3500, 10000, 5000])\n",
      "dict_items([('apple', 1000), ('banana', 3500), ('melon', 10000), ('mango', 5000)])\n"
     ]
    }
   ],
   "source": [
    "# 딕셔너리와 for\n",
    "d = {'apple': 1000, 'banana': 3500, 'melon': 10000, 'mango': 5000}\n",
    "print(d)\n",
    "print(type(d))\n",
    "print(d.keys())\n",
    "print(d.values())\n",
    "print(d.items())"
   ]
  },
  {
   "cell_type": "code",
   "execution_count": 34,
   "metadata": {},
   "outputs": [
    {
     "name": "stdout",
     "output_type": "stream",
     "text": [
      "apple\n",
      "banana\n",
      "melon\n",
      "mango\n",
      "================================================================================\n",
      "apple\n",
      "banana\n",
      "melon\n",
      "mango\n",
      "================================================================================\n",
      "apple\n",
      "banana\n",
      "melon\n",
      "mango\n"
     ]
    }
   ],
   "source": [
    "for key in d.keys():\n",
    "    print(key)\n",
    "print('=' * 80)\n",
    "for key in ['apple', 'banana', 'melon', 'mango']:\n",
    "    print(key)\n",
    "print('=' * 80)\n",
    "# 딕셔너리 이름은 딕셔너리이름.keys()와 같은 의미로 사용된다.\n",
    "for key in d:\n",
    "    print(key)"
   ]
  },
  {
   "cell_type": "code",
   "execution_count": 37,
   "metadata": {},
   "outputs": [
    {
     "name": "stdout",
     "output_type": "stream",
     "text": [
      "1000\n",
      "3500\n",
      "10000\n",
      "5000\n",
      "================================================================================\n",
      "1000\n",
      "3500\n",
      "10000\n",
      "5000\n",
      "================================================================================\n",
      "1000\n",
      "3500\n",
      "10000\n",
      "5000\n",
      "================================================================================\n",
      "1000\n",
      "3500\n",
      "10000\n",
      "5000\n"
     ]
    }
   ],
   "source": [
    "for value in d.values():\n",
    "    print(value)\n",
    "print('=' * 80)\n",
    "\n",
    "for value in [1000, 3500, 10000, 5000]:\n",
    "    print(value)\n",
    "print('=' * 80)\n",
    "\n",
    "for key in d.keys():\n",
    "    print(d.get(key))\n",
    "print('=' * 80)\n",
    "\n",
    "for key in d.keys():\n",
    "    print(d[key])"
   ]
  },
  {
   "cell_type": "code",
   "execution_count": 46,
   "metadata": {},
   "outputs": [
    {
     "name": "stdout",
     "output_type": "stream",
     "text": [
      "('apple', 1000)\n",
      "('banana', 3500)\n",
      "('melon', 10000)\n",
      "('mango', 5000)\n",
      "================================================================================\n",
      "apple\n",
      "banana\n",
      "melon\n",
      "mango\n",
      "================================================================================\n",
      "1000\n",
      "3500\n",
      "10000\n",
      "5000\n",
      "================================================================================\n",
      "apple 는  1,000원 입니다.\n",
      "banana는  3,500원 입니다.\n",
      "melon 는 10,000원 입니다.\n",
      "mango 는  5,000원 입니다.\n",
      "================================================================================\n"
     ]
    }
   ],
   "source": [
    "for item in d.items():\n",
    "    print(item)\n",
    "print('=' * 80)\n",
    "\n",
    "for item in d.items():\n",
    "    print(item[0])\n",
    "print('=' * 80)\n",
    "\n",
    "for item in d.items():\n",
    "    print(item[1])\n",
    "print('=' * 80)\n",
    "\n",
    "for key, value in d.items():\n",
    "    print('{0:6s}는 {1:6,d}원 입니다.'.format(key, value))\n",
    "print('=' * 80)"
   ]
  },
  {
   "cell_type": "code",
   "execution_count": null,
   "metadata": {},
   "outputs": [],
   "source": []
  },
  {
   "cell_type": "code",
   "execution_count": null,
   "metadata": {},
   "outputs": [],
   "source": []
  },
  {
   "cell_type": "code",
   "execution_count": null,
   "metadata": {},
   "outputs": [],
   "source": []
  },
  {
   "cell_type": "code",
   "execution_count": null,
   "metadata": {},
   "outputs": [],
   "source": []
  },
  {
   "cell_type": "code",
   "execution_count": null,
   "metadata": {},
   "outputs": [],
   "source": []
  },
  {
   "cell_type": "code",
   "execution_count": null,
   "metadata": {},
   "outputs": [],
   "source": []
  }
 ],
 "metadata": {
  "kernelspec": {
   "display_name": "Python 3",
   "language": "python",
   "name": "python3"
  },
  "language_info": {
   "codemirror_mode": {
    "name": "ipython",
    "version": 3
   },
   "file_extension": ".py",
   "mimetype": "text/x-python",
   "name": "python",
   "nbconvert_exporter": "python",
   "pygments_lexer": "ipython3",
   "version": "3.6.8"
  }
 },
 "nbformat": 4,
 "nbformat_minor": 4
}
