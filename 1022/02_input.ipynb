{
 "cells": [
  {
   "cell_type": "code",
   "execution_count": 1,
   "metadata": {},
   "outputs": [],
   "source": [
    "# 변수(variable)는 처리할 데이터(상수, constant)를 저장하는 기억장소를 말한다.\n",
    "# 변수명 작성방법\n",
    "# 영문자(대소문자를 구분한다.), 숫자, 특수문자(_)만 사용할 수 있으며 반드시 문자로 시작해야 하고 예약어는 사용할 수 없다.\n",
    "# 카멜 표기법 => totalCount와 같이 변수 이름을 2개 이상의 단어가 합쳐져서 구성할 때 2번째 이후 단어의 첫 문자를 대문자로 한다."
   ]
  },
  {
   "cell_type": "code",
   "execution_count": 2,
   "metadata": {},
   "outputs": [
    {
     "name": "stdout",
     "output_type": "stream",
     "text": [
      "<class 'str'>\n",
      "<class 'int'>\n",
      "<class 'float'>\n",
      "<class 'bool'>\n"
     ]
    }
   ],
   "source": [
    "# 파이썬은 c/c++이나 java와 달리 변수를 선언할 때 변수의 자료형을 지정하지 않는다. 변수에 저장되는 데이터의 타입에 따라서\n",
    "# 자동으로 변수의 자료형이 결정된다.\n",
    "# '='는 같다라는 의미로 사용되지 않고 '=' 오른쪽의 데이터를 '=' 왼쪽의 기억장소에 저장하라는 의미로 쓰인다. => 대입문, 배정문\n",
    "# '=='와 같이 2개를 연속해서 사용해야 같다로 인식된다.\n",
    "a = '홍길동'\n",
    "print(type(a)) # <class 'str'>\n",
    "a = 100\n",
    "print(type(a)) # <class 'int'>\n",
    "a = 180.2\n",
    "print(type(a)) # <class 'float'>\n",
    "# 파이썬은 참, 거짓을 의미하는 True와 False가 있다. => 반드시 첫 문자만 대문자로 써야한다.\n",
    "a = False\n",
    "print(type(a)) # <class 'bool'>"
   ]
  },
  {
   "cell_type": "code",
   "execution_count": 3,
   "metadata": {},
   "outputs": [
    {
     "ename": "NameError",
     "evalue": "name 'a' is not defined",
     "output_type": "error",
     "traceback": [
      "\u001b[1;31m---------------------------------------------------------------------------\u001b[0m",
      "\u001b[1;31mNameError\u001b[0m                                 Traceback (most recent call last)",
      "\u001b[1;32m<ipython-input-3-2f48b89e4ed6>\u001b[0m in \u001b[0;36m<module>\u001b[1;34m\u001b[0m\n\u001b[0;32m      1\u001b[0m \u001b[1;31m# 더 이상 필요 없는 변수는 del 명령으로 삭제시킬 수 있다.\u001b[0m\u001b[1;33m\u001b[0m\u001b[1;33m\u001b[0m\u001b[1;33m\u001b[0m\u001b[0m\n\u001b[0;32m      2\u001b[0m \u001b[1;32mdel\u001b[0m \u001b[0ma\u001b[0m\u001b[1;33m\u001b[0m\u001b[1;33m\u001b[0m\u001b[0m\n\u001b[1;32m----> 3\u001b[1;33m \u001b[0mprint\u001b[0m\u001b[1;33m(\u001b[0m\u001b[0ma\u001b[0m\u001b[1;33m)\u001b[0m\u001b[1;33m\u001b[0m\u001b[1;33m\u001b[0m\u001b[0m\n\u001b[0m",
      "\u001b[1;31mNameError\u001b[0m: name 'a' is not defined"
     ]
    }
   ],
   "source": [
    "# 더 이상 필요 없는 변수는 del 명령으로 삭제시킬 수 있다.\n",
    "del a\n",
    "print(a)"
   ]
  },
  {
   "cell_type": "code",
   "execution_count": 7,
   "metadata": {},
   "outputs": [
    {
     "name": "stdout",
     "output_type": "stream",
     "text": [
      "이름을 입력하세요 : 홍길동\n",
      "홍길동님 안녕하세요\n"
     ]
    }
   ],
   "source": [
    "# input() 함수로 키보드로 입력하는 데이터를 받을 수 있다. => 무조건 문자열 형태로 입력받는다.\n",
    "print('이름을 입력하세요 : ', end = '')\n",
    "name = input()\n",
    "print('%s님 안녕하세요' % name)"
   ]
  },
  {
   "cell_type": "code",
   "execution_count": 8,
   "metadata": {},
   "outputs": [
    {
     "name": "stdout",
     "output_type": "stream",
     "text": [
      "이름을 입력하세요 : 임꺽정\n",
      "임꺽정님 안녕하세요\n"
     ]
    }
   ],
   "source": [
    "# input() 함수의 인수로 메시지를 출력할 수 있다.\n",
    "name = input('이름을 입력하세요 : ')\n",
    "print('%s님 안녕하세요' % name)"
   ]
  },
  {
   "cell_type": "code",
   "execution_count": 13,
   "metadata": {},
   "outputs": [
    {
     "name": "stdout",
     "output_type": "stream",
     "text": [
      "나이를 입력하세요 : 20\n",
      "임꺽정님은 20살 입니다.\n",
      "임꺽정님은 내년에 21살 입니다.\n"
     ]
    }
   ],
   "source": [
    "# input() 함수는 무조건 문자열 형태로 데이터를 입력받기 때문에 정수나 실수 데이터를 입력받으면 int() 함수나 float() 함수를\n",
    "# 사용해서 숫자로 변환해야 한다.\n",
    "age = int(input('나이를 입력하세요 : '))\n",
    "print('%s님은 %d살 입니다.' % (name, age))\n",
    "print('%s님은 내년에 %d살 입니다.' % (name, age + 1))\n",
    "# '+' 연산자는 문자열과 문자열, 숫자와 숫자의 연산만 가능하다. => 문자열과 숫자를 연산하면 에러가 발생된다.\n",
    "# 문자열과 문자열에 '+' 연산자를 사용하면 두 문자열을 하나로 이어주고 숫자와 숫자에 '+' 연산자를 사용하면 덧셈이 실행된다."
   ]
  },
  {
   "cell_type": "code",
   "execution_count": 4,
   "metadata": {},
   "outputs": [
    {
     "name": "stdout",
     "output_type": "stream",
     "text": [
      "Hello Python\n",
      "['Hello', 'Python']\n",
      "이름과 나이를 입력하세요 : 장길산 55\n",
      "장길산님은 55살 입니다.\n",
      "장길산님은 내년에 56살 입니다.\n"
     ]
    }
   ],
   "source": [
    "# split() 메소드 메소드를 사용하면 구분자를 경계로 나눌 수 있다. => 구분자를 지정하지 않으면 공백이 기본 구분자로 사용된다.\n",
    "print('Hello Python')\n",
    "print('Hello Python'.split())\n",
    "\n",
    "name, age = input('이름과 나이를 입력하세요 : ').split()\n",
    "print('{}님은 {}살 입니다.'.format(name, age))\n",
    "print('{}님은 내년에 {}살 입니다.'.format(name, int(age) + 1))"
   ]
  },
  {
   "cell_type": "code",
   "execution_count": 7,
   "metadata": {},
   "outputs": [
    {
     "name": "stdout",
     "output_type": "stream",
     "text": [
      "세 과목 점수를 입력하세요 : 100 100 99\n",
      "총점 : 299\n"
     ]
    }
   ],
   "source": [
    "# map() 함수를 사용하면 입력받은 데이터를 split() 메소드로 나눠서 일괄적으로 숫자로 변환 시킬 수 있다.\n",
    "# map(자료형, input('메시지').split())\n",
    "python, java, jsp = map(int, input('세 과목 점수를 입력하세요 : ').split())\n",
    "# python, java, jsp = input('세 과목 점수를 입력하세요 : ').split()\n",
    "print('총점 : {}'.format(python + java + jsp))"
   ]
  },
  {
   "cell_type": "code",
   "execution_count": null,
   "metadata": {},
   "outputs": [],
   "source": []
  },
  {
   "cell_type": "code",
   "execution_count": null,
   "metadata": {},
   "outputs": [],
   "source": []
  },
  {
   "cell_type": "code",
   "execution_count": null,
   "metadata": {},
   "outputs": [],
   "source": []
  },
  {
   "cell_type": "code",
   "execution_count": null,
   "metadata": {},
   "outputs": [],
   "source": []
  },
  {
   "cell_type": "code",
   "execution_count": null,
   "metadata": {},
   "outputs": [],
   "source": []
  }
 ],
 "metadata": {
  "kernelspec": {
   "display_name": "Python 3",
   "language": "python",
   "name": "python3"
  },
  "language_info": {
   "codemirror_mode": {
    "name": "ipython",
    "version": 3
   },
   "file_extension": ".py",
   "mimetype": "text/x-python",
   "name": "python",
   "nbconvert_exporter": "python",
   "pygments_lexer": "ipython3",
   "version": "3.6.8"
  }
 },
 "nbformat": 4,
 "nbformat_minor": 4
}
